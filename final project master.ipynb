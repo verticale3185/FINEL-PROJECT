{
 "cells": [
  {
   "cell_type": "markdown",
   "metadata": {},
   "source": [
    "## Group15\n",
    "### members names:  \n",
    "Or Nir  \n",
    "Elad Mor  \n",
    "Eitan Hameiri  \n",
    "Hananel Yefet"
   ]
  },
  {
   "cell_type": "markdown",
   "metadata": {},
   "source": [
    "### Data source:  \n",
    "https://www.kaggle.com/ahmedterry/cristiano-ronald-vs-lionel-messi-weekly-updated"
   ]
  },
  {
   "cell_type": "markdown",
   "metadata": {},
   "source": [
    "# **RONALDO vs MESSI**"
   ]
  },
  {
   "cell_type": "markdown",
   "metadata": {},
   "source": [
    "<img src=https://pbs.twimg.com/media/EoRIiXcWMAAcS22.jpg width=\"400\">"
   ]
  },
  {
   "cell_type": "code",
   "execution_count": 1,
   "metadata": {
    "scrolled": true
   },
   "outputs": [
    {
     "data": {
      "text/html": [
       "<div>\n",
       "<style scoped>\n",
       "    .dataframe tbody tr th:only-of-type {\n",
       "        vertical-align: middle;\n",
       "    }\n",
       "\n",
       "    .dataframe tbody tr th {\n",
       "        vertical-align: top;\n",
       "    }\n",
       "\n",
       "    .dataframe thead th {\n",
       "        text-align: right;\n",
       "    }\n",
       "</style>\n",
       "<table border=\"1\" class=\"dataframe\">\n",
       "  <thead>\n",
       "    <tr style=\"text-align: right;\">\n",
       "      <th></th>\n",
       "      <th>player</th>\n",
       "      <th>comp</th>\n",
       "      <th>round</th>\n",
       "      <th>date</th>\n",
       "      <th>venue</th>\n",
       "      <th>opp</th>\n",
       "      <th>pos</th>\n",
       "      <th>min</th>\n",
       "      <th>type</th>\n",
       "      <th>assisted</th>\n",
       "    </tr>\n",
       "  </thead>\n",
       "  <tbody>\n",
       "    <tr>\n",
       "      <th>0</th>\n",
       "      <td>ronaldo</td>\n",
       "      <td>Liga NOS</td>\n",
       "      <td>6</td>\n",
       "      <td>10/7/2002</td>\n",
       "      <td>H</td>\n",
       "      <td>Moreirense</td>\n",
       "      <td>RW</td>\n",
       "      <td>34'</td>\n",
       "      <td>NaN</td>\n",
       "      <td>NaN</td>\n",
       "    </tr>\n",
       "    <tr>\n",
       "      <th>1</th>\n",
       "      <td>ronaldo</td>\n",
       "      <td>Liga NOS</td>\n",
       "      <td>6</td>\n",
       "      <td>10/7/2002</td>\n",
       "      <td>H</td>\n",
       "      <td>Moreirense</td>\n",
       "      <td>NaN</td>\n",
       "      <td>90'</td>\n",
       "      <td>NaN</td>\n",
       "      <td>NaN</td>\n",
       "    </tr>\n",
       "    <tr>\n",
       "      <th>2</th>\n",
       "      <td>ronaldo</td>\n",
       "      <td>Liga NOS</td>\n",
       "      <td>8</td>\n",
       "      <td>10/26/2002</td>\n",
       "      <td>A</td>\n",
       "      <td>Boavista</td>\n",
       "      <td>NaN</td>\n",
       "      <td>88'</td>\n",
       "      <td>NaN</td>\n",
       "      <td>Carlos Martins</td>\n",
       "    </tr>\n",
       "    <tr>\n",
       "      <th>3</th>\n",
       "      <td>ronaldo</td>\n",
       "      <td>Taça de Portugal Placard</td>\n",
       "      <td>Fourth Round</td>\n",
       "      <td>11/24/2002</td>\n",
       "      <td>H</td>\n",
       "      <td>Estarreja</td>\n",
       "      <td>NaN</td>\n",
       "      <td>67'</td>\n",
       "      <td>Left-footed shot</td>\n",
       "      <td>César Prates</td>\n",
       "    </tr>\n",
       "    <tr>\n",
       "      <th>4</th>\n",
       "      <td>ronaldo</td>\n",
       "      <td>Taça de Portugal Placard</td>\n",
       "      <td>Fifth Round</td>\n",
       "      <td>12/18/2002</td>\n",
       "      <td>H</td>\n",
       "      <td>Oliv. Hospital</td>\n",
       "      <td>NaN</td>\n",
       "      <td>13'</td>\n",
       "      <td>NaN</td>\n",
       "      <td>NaN</td>\n",
       "    </tr>\n",
       "    <tr>\n",
       "      <th>...</th>\n",
       "      <td>...</td>\n",
       "      <td>...</td>\n",
       "      <td>...</td>\n",
       "      <td>...</td>\n",
       "      <td>...</td>\n",
       "      <td>...</td>\n",
       "      <td>...</td>\n",
       "      <td>...</td>\n",
       "      <td>...</td>\n",
       "      <td>...</td>\n",
       "    </tr>\n",
       "    <tr>\n",
       "      <th>1295</th>\n",
       "      <td>messi</td>\n",
       "      <td>NaN</td>\n",
       "      <td>NaN</td>\n",
       "      <td>NaN</td>\n",
       "      <td>NaN</td>\n",
       "      <td>NaN</td>\n",
       "      <td>NaN</td>\n",
       "      <td>82'</td>\n",
       "      <td>Left-footed shot</td>\n",
       "      <td>Sergi Roberto</td>\n",
       "    </tr>\n",
       "    <tr>\n",
       "      <th>1296</th>\n",
       "      <td>messi</td>\n",
       "      <td>LaLiga</td>\n",
       "      <td>11</td>\n",
       "      <td>11/29/2020</td>\n",
       "      <td>H</td>\n",
       "      <td>CA Osasuna</td>\n",
       "      <td>RW</td>\n",
       "      <td>73'</td>\n",
       "      <td>Left-footed shot</td>\n",
       "      <td>Trincão</td>\n",
       "    </tr>\n",
       "    <tr>\n",
       "      <th>1297</th>\n",
       "      <td>messi</td>\n",
       "      <td>LaLiga</td>\n",
       "      <td>13</td>\n",
       "      <td>12/13/2020</td>\n",
       "      <td>H</td>\n",
       "      <td>Levante</td>\n",
       "      <td>CF</td>\n",
       "      <td>76'</td>\n",
       "      <td>Left-footed shot</td>\n",
       "      <td>Frenkie de Jong</td>\n",
       "    </tr>\n",
       "    <tr>\n",
       "      <th>1298</th>\n",
       "      <td>messi</td>\n",
       "      <td>LaLiga</td>\n",
       "      <td>14</td>\n",
       "      <td>12/19/2020</td>\n",
       "      <td>H</td>\n",
       "      <td>Valencia</td>\n",
       "      <td>CF</td>\n",
       "      <td>45'+4</td>\n",
       "      <td>Header</td>\n",
       "      <td>NaN</td>\n",
       "    </tr>\n",
       "    <tr>\n",
       "      <th>1299</th>\n",
       "      <td>messi</td>\n",
       "      <td>LaLiga</td>\n",
       "      <td>15</td>\n",
       "      <td>12/22/2020</td>\n",
       "      <td>A</td>\n",
       "      <td>Real Valladolid</td>\n",
       "      <td>SS</td>\n",
       "      <td>65'</td>\n",
       "      <td>Left-footed shot</td>\n",
       "      <td>Pedri</td>\n",
       "    </tr>\n",
       "  </tbody>\n",
       "</table>\n",
       "<p>1300 rows × 10 columns</p>\n",
       "</div>"
      ],
      "text/plain": [
       "       player                      comp         round        date venue  \\\n",
       "0     ronaldo                  Liga NOS             6   10/7/2002     H   \n",
       "1     ronaldo                  Liga NOS             6   10/7/2002     H   \n",
       "2     ronaldo                  Liga NOS             8  10/26/2002     A   \n",
       "3     ronaldo  Taça de Portugal Placard  Fourth Round  11/24/2002     H   \n",
       "4     ronaldo  Taça de Portugal Placard   Fifth Round  12/18/2002     H   \n",
       "...       ...                       ...           ...         ...   ...   \n",
       "1295    messi                       NaN           NaN         NaN   NaN   \n",
       "1296    messi                    LaLiga            11  11/29/2020     H   \n",
       "1297    messi                    LaLiga            13  12/13/2020     H   \n",
       "1298    messi                    LaLiga            14  12/19/2020     H   \n",
       "1299    messi                    LaLiga            15  12/22/2020     A   \n",
       "\n",
       "                    opp  pos    min              type         assisted  \n",
       "0           Moreirense    RW    34'               NaN              NaN  \n",
       "1           Moreirense   NaN    90'               NaN              NaN  \n",
       "2              Boavista  NaN    88'               NaN   Carlos Martins  \n",
       "3             Estarreja  NaN    67'  Left-footed shot     César Prates  \n",
       "4        Oliv. Hospital  NaN    13'               NaN              NaN  \n",
       "...                 ...  ...    ...               ...              ...  \n",
       "1295                NaN  NaN    82'  Left-footed shot    Sergi Roberto  \n",
       "1296       CA Osasuna    RW     73'  Left-footed shot          Trincão  \n",
       "1297          Levante    CF     76'  Left-footed shot  Frenkie de Jong  \n",
       "1298         Valencia    CF   45'+4            Header              NaN  \n",
       "1299  Real Valladolid    SS     65'  Left-footed shot            Pedri  \n",
       "\n",
       "[1300 rows x 10 columns]"
      ]
     },
     "execution_count": 1,
     "metadata": {},
     "output_type": "execute_result"
    }
   ],
   "source": [
    "import pandas as pd\n",
    "import numpy as np\n",
    "import seaborn as sns\n",
    "import matplotlib.pyplot as plt\n",
    "\n",
    "df = pd.read_csv('https://raw.githubusercontent.com/verticale3185/FINEL-PROJECT/main/cristiano_vs_messi.csv')\n",
    "df"
   ]
  },
  {
   "cell_type": "markdown",
   "metadata": {},
   "source": [
    "this data"
   ]
  },
  {
   "cell_type": "markdown",
   "metadata": {},
   "source": [
    "# Data explanation:  \n",
    "  \n",
    "This dataset summarizes goals scored by Messi and Ronaldo of all their careers until 2020.  \n",
    "Each row introduce as one goal.  \n",
    "There are 1300 rows and 10 columns.\n",
    "\n",
    "## Columns:\n",
    "**Player** = Ronaldo / Messi.  \n",
    "**Comp** = competition.  \n",
    "**Round** = the round of the match in the competition.  \n",
    "**Date** = date of the match.  \n",
    "**Venue** = home / away.  \n",
    "**Opp** = the opposing team.  \n",
    "**Pos** = possion of the plater on the field.  \n",
    "**Min** = a minute of match.  \n",
    "**Type** = type of the goal.  \n",
    "**Assisted** = the name of the team player that assisted to the player (there non-assisted goals - solo)"
   ]
  },
  {
   "cell_type": "markdown",
   "metadata": {},
   "source": [
    "# Handling missing data:"
   ]
  },
  {
   "cell_type": "markdown",
   "metadata": {},
   "source": [
    "In the dataset, every empty raw is because there was more than one goal in the same match.  \n",
    "So, we fill all the mising data in the relevent data by \"ffill\"."
   ]
  },
  {
   "cell_type": "code",
   "execution_count": 2,
   "metadata": {},
   "outputs": [],
   "source": [
    "columns =['comp', 'round', 'date', 'venue', 'opp', 'pos']\n",
    "for x in columns:\n",
    "    df[x]=df[x].fillna(method='ffill')"
   ]
  },
  {
   "cell_type": "markdown",
   "metadata": {},
   "source": [
    "1. **assisted column:**  \n",
    "Every NaN meaning to non assisted goal - solo attack.  \n",
    "So we replaced all NaN with \"Solo\".  \n",
    "\n",
    "2. **date column:**  \n",
    "We changed the type to dateime type and made new \"year\" column.  \n",
    "\n",
    "3. **min column:**  \n",
    "We changed the type to integer and cleaned signs like ' and +.  \n",
    "\n",
    "4. **pos column:**  \n",
    "Cleaned not necessary signs.\n",
    "  \n",
    "5. we created seperate charts for each player."
   ]
  },
  {
   "cell_type": "code",
   "execution_count": 3,
   "metadata": {},
   "outputs": [],
   "source": [
    "df.assisted = df.assisted.fillna('Solo')\n",
    "df.date = pd.to_datetime(df.date)\n",
    "df['year'] = pd.DatetimeIndex(df['date']).year\n",
    "df['year'].fillna(method = 'ffill', inplace = True)\n",
    "df['year'] = df['year'].astype(int)\n",
    "\n",
    "df['min'] = df['min'].astype(str)\n",
    "df['min'] = df['min'].str.replace(\"'\", \"\")\n",
    "new_time = df['min'].str.extract('(\\d+)[+](\\d+)',expand=True).dropna().astype(int).sum(axis=1)\n",
    "df.loc[new_time.index,'min'] = new_time\n",
    "df['min'] = df['min'].astype(int)\n",
    "\n",
    "if len(df.pos) > 2:\n",
    "    df.pos = df.pos.str[0:2]\n",
    "\n",
    "df['player'] = df['player'].str.title()"
   ]
  },
  {
   "cell_type": "code",
   "execution_count": 4,
   "metadata": {},
   "outputs": [],
   "source": [
    "messi_df = df.loc[df.player == 'Messi'].reset_index()\n",
    "ronaldo_df = df.loc[df.player == 'Ronaldo']"
   ]
  },
  {
   "cell_type": "markdown",
   "metadata": {},
   "source": [
    "<img src=https://bolavip.com/__export/1598657320847/sites/bolavip/img/2020/08/28/lionel_messi_vs_cristiano_ronaldo.jpg_1546398727.jpg width=\"600\">"
   ]
  },
  {
   "cell_type": "markdown",
   "metadata": {},
   "source": [
    "## 1. Who Scored More Goals Per Year?"
   ]
  },
  {
   "cell_type": "code",
   "execution_count": 5,
   "metadata": {},
   "outputs": [
    {
     "data": {
      "image/png": "[encoded data removed]",
      "text/plain": [
       "<Figure size 1080x360 with 1 Axes>"
      ]
     },
     "metadata": {
      "needs_background": "light"
     },
     "output_type": "display_data"
    }
   ],
   "source": [
    "plt.suptitle('Goals Per Year For Fvery Player', fontsize = 15 )\n",
    "ronaldo_df.groupby(['year'])['player'].count().plot(kind='bar',color='brown',label='Ronaldo',figsize=(15,5),width = 0.4)\n",
    "messi_df.groupby(['year'])['player'].count().plot(kind='bar',color='#14D622',label='Messi',figsize=(15,5),width = 0.2)\n",
    "plt.legend()\n",
    "plt.ylabel('Goals' , fontsize = 15)\n",
    "plt.xlabel('Year for all competitions', fontsize = 15)\n",
    "plt.grid(True)\n",
    "plt.show()"
   ]
  },
  {
   "cell_type": "markdown",
   "metadata": {},
   "source": [
    "### From this comparison we can understand:  \n",
    "1. 2012 was a dramatic year in Messi and Ronaldo's career, it was the best year for Messi career's and the worst year for Ronaldo career's.  \n",
    "2. Until 2012 Messi scored more goals than Ronaldo, and from 2013 Ronaldo scores more goals.  \n",
    "3. Ronaldo is more stable than Messi across the years.\n",
    "4. Ronaldo and Messi have passed their record and are scoring less goals than before."
   ]
  },
  {
   "cell_type": "markdown",
   "metadata": {},
   "source": [
    "## 2. Who Scored More Goals Per Type?"
   ]
  },
  {
   "cell_type": "code",
   "execution_count": 6,
   "metadata": {
    "scrolled": true
   },
   "outputs": [
    {
     "data": {
      "text/html": [
       "<div>\n",
       "<style scoped>\n",
       "    .dataframe tbody tr th:only-of-type {\n",
       "        vertical-align: middle;\n",
       "    }\n",
       "\n",
       "    .dataframe tbody tr th {\n",
       "        vertical-align: top;\n",
       "    }\n",
       "\n",
       "    .dataframe thead th {\n",
       "        text-align: right;\n",
       "    }\n",
       "</style>\n",
       "<table border=\"1\" class=\"dataframe\">\n",
       "  <thead>\n",
       "    <tr style=\"text-align: right;\">\n",
       "      <th></th>\n",
       "      <th>Chest</th>\n",
       "      <th>Counter attack goal</th>\n",
       "      <th>Deflected shot on goal</th>\n",
       "      <th>Direct free kick</th>\n",
       "      <th>Header</th>\n",
       "      <th>Left-footed shot</th>\n",
       "      <th>Long distance kick</th>\n",
       "      <th>Penalty</th>\n",
       "      <th>Penalty rebound</th>\n",
       "      <th>Right-footed shot</th>\n",
       "      <th>Solo run</th>\n",
       "      <th>Tap-in</th>\n",
       "    </tr>\n",
       "  </thead>\n",
       "  <tbody>\n",
       "    <tr>\n",
       "      <th>Messi</th>\n",
       "      <td>1.0</td>\n",
       "      <td>NaN</td>\n",
       "      <td>2.0</td>\n",
       "      <td>47.0</td>\n",
       "      <td>23.0</td>\n",
       "      <td>394.0</td>\n",
       "      <td>NaN</td>\n",
       "      <td>80.0</td>\n",
       "      <td>3.0</td>\n",
       "      <td>80.0</td>\n",
       "      <td>4.0</td>\n",
       "      <td>9.0</td>\n",
       "    </tr>\n",
       "    <tr>\n",
       "      <th>Ronaldo</th>\n",
       "      <td>NaN</td>\n",
       "      <td>3.0</td>\n",
       "      <td>2.0</td>\n",
       "      <td>46.0</td>\n",
       "      <td>103.0</td>\n",
       "      <td>102.0</td>\n",
       "      <td>9.0</td>\n",
       "      <td>122.0</td>\n",
       "      <td>2.0</td>\n",
       "      <td>235.0</td>\n",
       "      <td>1.0</td>\n",
       "      <td>13.0</td>\n",
       "    </tr>\n",
       "  </tbody>\n",
       "</table>\n",
       "</div>"
      ],
      "text/plain": [
       "         Chest  Counter attack goal  Deflected shot on goal  Direct free kick  \\\n",
       "Messi      1.0                  NaN                     2.0              47.0   \n",
       "Ronaldo    NaN                  3.0                     2.0              46.0   \n",
       "\n",
       "         Header  Left-footed shot  Long distance kick  Penalty  \\\n",
       "Messi      23.0             394.0                 NaN     80.0   \n",
       "Ronaldo   103.0             102.0                 9.0    122.0   \n",
       "\n",
       "         Penalty rebound  Right-footed shot  Solo run  Tap-in  \n",
       "Messi                3.0               80.0       4.0     9.0  \n",
       "Ronaldo              2.0              235.0       1.0    13.0  "
      ]
     },
     "execution_count": 6,
     "metadata": {},
     "output_type": "execute_result"
    }
   ],
   "source": [
    "messi_type = df[df['player'] == 'Messi'].type.value_counts()\n",
    "ronaldo_type = df[df['player'] == 'Ronaldo'].type.value_counts()\n",
    "df_types = pd.DataFrame({ 'Messi' : messi_type ,\n",
    "                         'Ronaldo' : ronaldo_type})\n",
    "df_types.T"
   ]
  },
  {
   "cell_type": "code",
   "execution_count": 7,
   "metadata": {
    "scrolled": true
   },
   "outputs": [
    {
     "name": "stdout",
     "output_type": "stream",
     "text": [
      "This graph show the number of goals in percent of the total goals for each player\n"
     ]
    },
    {
     "data": {
      "image/png": "[encoded data removed]",
      "text/plain": [
       "<Figure size 1440x360 with 1 Axes>"
      ]
     },
     "metadata": {
      "needs_background": "light"
     },
     "output_type": "display_data"
    }
   ],
   "source": [
    "print(\"This graph show the number of goals in percent of the total goals for each player\")\n",
    "(df_types/df_types.sum()).plot.bar(figsize=(20, 5), color = ('#14D622',\"brown\"), fontsize = 15)\n",
    "plt.grid(True)"
   ]
  },
  {
   "cell_type": "markdown",
   "metadata": {},
   "source": [
    "### From this comparison we can understand:  \n",
    "1. Messi scored 60% of his goals in his dominant foot, compared to Ronaldo who scored a little less than 40% in his dominant foot.  \n",
    "2. Ronaldo scored more goals on penalties and header.  \n",
    "3. Messi and Ronaldo scored the same percents with free kicks."
   ]
  },
  {
   "cell_type": "markdown",
   "metadata": {},
   "source": [
    "## 3. Who Scored More Solo Goals?"
   ]
  },
  {
   "cell_type": "code",
   "execution_count": 8,
   "metadata": {},
   "outputs": [
    {
     "data": {
      "text/html": [
       "<div>\n",
       "<style scoped>\n",
       "    .dataframe tbody tr th:only-of-type {\n",
       "        vertical-align: middle;\n",
       "    }\n",
       "\n",
       "    .dataframe tbody tr th {\n",
       "        vertical-align: top;\n",
       "    }\n",
       "\n",
       "    .dataframe thead th {\n",
       "        text-align: right;\n",
       "    }\n",
       "</style>\n",
       "<table border=\"1\" class=\"dataframe\">\n",
       "  <thead>\n",
       "    <tr style=\"text-align: right;\">\n",
       "      <th></th>\n",
       "      <th>Ronaldo</th>\n",
       "      <th>Messi</th>\n",
       "    </tr>\n",
       "  </thead>\n",
       "  <tbody>\n",
       "    <tr>\n",
       "      <th>Solo</th>\n",
       "      <td>225</td>\n",
       "      <td>201</td>\n",
       "    </tr>\n",
       "    <tr>\n",
       "      <th>Assisted</th>\n",
       "      <td>1075</td>\n",
       "      <td>1099</td>\n",
       "    </tr>\n",
       "  </tbody>\n",
       "</table>\n",
       "</div>"
      ],
      "text/plain": [
       "          Ronaldo  Messi\n",
       "Solo          225    201\n",
       "Assisted     1075   1099"
      ]
     },
     "execution_count": 8,
     "metadata": {},
     "output_type": "execute_result"
    },
    {
     "data": {
      "image/png": "[encoded data removed]",
      "text/plain": [
       "<Figure size 792x432 with 2 Axes>"
      ]
     },
     "metadata": {},
     "output_type": "display_data"
    }
   ],
   "source": [
    "df['Solo_messi'] = ((df['assisted'] == 'Solo') & (df['player'] == 'Messi'))\n",
    "df['Solo_ronaldo']= ((df['assisted'] == 'Solo') & (df['player'] == 'Ronaldo'))\n",
    "\n",
    "Solo_ronaldo = (df['Solo_ronaldo'] == True).sum()\n",
    "Solo_messi = (df['Solo_messi'] == True).sum()\n",
    "nonSolo_messi = (len(df['Solo_messi']) - Solo_messi)\n",
    "nonSolo_ronaldo = (len(df['Solo_ronaldo']) - Solo_ronaldo) \n",
    "\n",
    "df_pie = pd.DataFrame({'Ronaldo' : [Solo_ronaldo , nonSolo_ronaldo],\n",
    "                      'Messi' : [Solo_messi , nonSolo_messi]},\n",
    "                  index = ['Solo'  , 'Assisted'])\n",
    "plot =df_pie.plot.pie(subplots=True, figsize=(11, 6) , autopct='%1.1f%%')\n",
    "df_pie"
   ]
  },
  {
   "cell_type": "markdown",
   "metadata": {},
   "source": [
    "### From this comparison we can understand:  \n",
    "Ronaldo scored a few more solo goals than Messi."
   ]
  },
  {
   "cell_type": "markdown",
   "metadata": {},
   "source": [
    "## 4. Who Scored More Goals Per Possition?"
   ]
  },
  {
   "cell_type": "code",
   "execution_count": 9,
   "metadata": {},
   "outputs": [
    {
     "data": {
      "text/html": [
       "<div>\n",
       "<style scoped>\n",
       "    .dataframe tbody tr th:only-of-type {\n",
       "        vertical-align: middle;\n",
       "    }\n",
       "\n",
       "    .dataframe tbody tr th {\n",
       "        vertical-align: top;\n",
       "    }\n",
       "\n",
       "    .dataframe thead th {\n",
       "        text-align: right;\n",
       "    }\n",
       "</style>\n",
       "<table border=\"1\" class=\"dataframe\">\n",
       "  <thead>\n",
       "    <tr style=\"text-align: right;\">\n",
       "      <th></th>\n",
       "      <th></th>\n",
       "      <th>pos</th>\n",
       "    </tr>\n",
       "    <tr>\n",
       "      <th>player</th>\n",
       "      <th>pos</th>\n",
       "      <th></th>\n",
       "    </tr>\n",
       "  </thead>\n",
       "  <tbody>\n",
       "    <tr>\n",
       "      <th rowspan=\"5\" valign=\"top\">Messi</th>\n",
       "      <th>AM</th>\n",
       "      <td>10</td>\n",
       "    </tr>\n",
       "    <tr>\n",
       "      <th>CF</th>\n",
       "      <td>272</td>\n",
       "    </tr>\n",
       "    <tr>\n",
       "      <th>LW</th>\n",
       "      <td>1</td>\n",
       "    </tr>\n",
       "    <tr>\n",
       "      <th>RW</th>\n",
       "      <td>316</td>\n",
       "    </tr>\n",
       "    <tr>\n",
       "      <th>SS</th>\n",
       "      <td>45</td>\n",
       "    </tr>\n",
       "    <tr>\n",
       "      <th rowspan=\"3\" valign=\"top\">Ronaldo</th>\n",
       "      <th>CF</th>\n",
       "      <td>165</td>\n",
       "    </tr>\n",
       "    <tr>\n",
       "      <th>LW</th>\n",
       "      <td>367</td>\n",
       "    </tr>\n",
       "    <tr>\n",
       "      <th>RW</th>\n",
       "      <td>124</td>\n",
       "    </tr>\n",
       "  </tbody>\n",
       "</table>\n",
       "</div>"
      ],
      "text/plain": [
       "             pos\n",
       "player  pos     \n",
       "Messi   AM    10\n",
       "        CF   272\n",
       "        LW     1\n",
       "        RW   316\n",
       "        SS    45\n",
       "Ronaldo CF   165\n",
       "        LW   367\n",
       "        RW   124"
      ]
     },
     "execution_count": 9,
     "metadata": {},
     "output_type": "execute_result"
    },
    {
     "data": {
      "image/png": "[encoded data removed]",
      "text/plain": [
       "<Figure size 864x360 with 1 Axes>"
      ]
     },
     "metadata": {
      "needs_background": "light"
     },
     "output_type": "display_data"
    }
   ],
   "source": [
    "df['pos']=df.pos.str.strip()\n",
    "messi_pos = df[df['player'] == 'Messi'].pos.value_counts()\n",
    "ronaldo_pos = df[df['player'] == 'Ronaldo'].pos.value_counts()\n",
    "df_pos = pd.DataFrame({ 'Messi' : messi_pos , \n",
    "           'Ronaldo' : ronaldo_pos})\n",
    "df_pos = df_pos/df_pos.sum()\n",
    "\n",
    "df_pos.plot.bar(title = 'player favorite position', color = ('#14D622',\"brown\"), figsize = (12,5) , fontsize = 15)\n",
    "df.groupby([\"player\",'pos'])[['pos']].count()"
   ]
  },
  {
   "cell_type": "markdown",
   "metadata": {},
   "source": [
    "### From this comparison we can understand:  \n",
    "1. The best position for Ronaldo is LW and for Messi is RW.\n",
    "2. Messi better than Ronaldo in CF possition.\n",
    "3. Ronaldo better than Messi on the \"weak side\".\n",
    "4. Messi scored from more possionss than Ronaldo, but in low percents."
   ]
  },
  {
   "cell_type": "markdown",
   "metadata": {},
   "source": [
    "<img src=https://i.insider.com/60801d9644f4540019207e58 width=\"700\">"
   ]
  },
  {
   "cell_type": "markdown",
   "metadata": {},
   "source": [
    "## 5. Who Was The Best Scorer In \"LaLiga\" (the spanish league)?"
   ]
  },
  {
   "cell_type": "code",
   "execution_count": 10,
   "metadata": {
    "scrolled": true
   },
   "outputs": [
    {
     "data": {
      "image/png": "[encoded data removed]",
      "text/plain": [
       "<Figure size 1440x432 with 1 Axes>"
      ]
     },
     "metadata": {
      "needs_background": "light"
     },
     "output_type": "display_data"
    }
   ],
   "source": [
    "plt.plot()\n",
    "ronaldo_df.loc[ronaldo_df.comp=='LaLiga'].groupby(['year'])['player'].count().plot(kind='line',color = 'brown',label='Ronaldo',figsize=(20,8))\n",
    "messi_df.loc[(messi_df.comp=='LaLiga')].groupby(['year'])['player'].count().plot(kind='line',color = '#14D622',label='Messi',figsize=(20,6))\n",
    "plt.title('Goals Scored In \"LaLiga\"', fontsize = 30)\n",
    "plt.ylabel('Number Of Goals', fontsize = 20)\n",
    "plt.xlabel('Year', fontsize = 20)\n",
    "plt.xlim(2009,2018)\n",
    "plt.legend()\n",
    "plt.grid(True)\n",
    "plt.show()"
   ]
  },
  {
   "cell_type": "markdown",
   "metadata": {},
   "source": [
    "#### Average goals per player per season:"
   ]
  },
  {
   "cell_type": "code",
   "execution_count": 11,
   "metadata": {},
   "outputs": [
    {
     "data": {
      "text/html": [
       "<style  type=\"text/css\" >\n",
       "</style><table id=\"T_6ce728cf_0bf8_11ec_86e7_70b5e897e263\" ><caption>Average goals per player per season</caption><thead>    <tr>        <th class=\"blank level0\" ></th>        <th class=\"col_heading level0 col0\" >year</th>    </tr>    <tr>        <th class=\"index_name level0\" >player</th>        <th class=\"blank\" ></th>    </tr></thead><tbody>\n",
       "                <tr>\n",
       "                        <th id=\"T_6ce728cf_0bf8_11ec_86e7_70b5e897e263level0_row0\" class=\"row_heading level0 row0\" >Messi</th>\n",
       "                        <td id=\"T_6ce728cf_0bf8_11ec_86e7_70b5e897e263row0_col0\" class=\"data row0 col0\" >28.187500</td>\n",
       "            </tr>\n",
       "            <tr>\n",
       "                        <th id=\"T_6ce728cf_0bf8_11ec_86e7_70b5e897e263level0_row1\" class=\"row_heading level0 row1\" >Ronaldo</th>\n",
       "                        <td id=\"T_6ce728cf_0bf8_11ec_86e7_70b5e897e263row1_col0\" class=\"data row1 col0\" >31.100000</td>\n",
       "            </tr>\n",
       "    </tbody></table>"
      ],
      "text/plain": [
       "<pandas.io.formats.style.Styler at 0x26e20508940>"
      ]
     },
     "execution_count": 11,
     "metadata": {},
     "output_type": "execute_result"
    }
   ],
   "source": [
    "df.loc[df.comp=='LaLiga'].groupby(['player','year'])[['year']].count().groupby([\"player\"]).mean().style.set_caption(\"Average goals per player per season\")"
   ]
  },
  {
   "cell_type": "markdown",
   "metadata": {},
   "source": [
    "### From this comparison we can understand:  \n",
    "1. Ronaldo is more stable than Messi across the years.\n",
    "2. In the period from 2009 to 2018, Messi was  the best scorer for 6 seasons (2009, 2010, 2012, 2016, 2017, 2018) compared to only 4 seasons for Ronaldo (2011, 2013, 2014, 2015).\n",
    "3. Ronaldo scores an average of 2 goals more than Messi per year."
   ]
  },
  {
   "cell_type": "markdown",
   "metadata": {},
   "source": [
    "## 6. Who Is The Best Scorer In The Money Time?"
   ]
  },
  {
   "cell_type": "code",
   "execution_count": 12,
   "metadata": {},
   "outputs": [
    {
     "data": {
      "image/png": "[encoded data removed]",
      "text/plain": [
       "<Figure size 1440x432 with 2 Axes>"
      ]
     },
     "metadata": {
      "needs_background": "light"
     },
     "output_type": "display_data"
    }
   ],
   "source": [
    "plt.subplot(1,2,1)\n",
    "df.loc[(df['comp']=='Champions League') & (df['round'] == 'Group Stage')].groupby(['player'])['date'].count().plot(kind='bar',width = 0.2, color = ( \"#14D622\",\"brown\"))\n",
    "plt.title('Goals Scored in \"UEFA Champions League\" Group stages',fontsize = 20)\n",
    "plt.xlabel('Players',fontsize = 14)\n",
    "plt.ylabel('Number of Goals',fontsize = 14)\n",
    "plt.ylim(0,75)\n",
    "\n",
    "\n",
    "plt.subplot(1,2,2)\n",
    "df.loc[(df['comp']=='Champions League') & (df['round'] != 'Group Stage')].groupby(['player'])['date'].count().plot(kind='bar',figsize=(20,6),width = 0.2, color = ( \"#14D622\",\"brown\"))\n",
    "plt.title('Goals Scored in UEFA Champions League Knockout stages',fontsize=20)\n",
    "plt.xlabel('Players',fontsize = 14)\n",
    "plt.ylabel('Number of Goals',fontsize = 14)\n",
    "plt.ylim(0,70)\n",
    "plt.suptitle('Who scored more in UEFA Champions League Stages?',fontsize=30,style ='italic',y=1.05)\n",
    "\n",
    "plt.show()"
   ]
  },
  {
   "cell_type": "markdown",
   "metadata": {},
   "source": [
    "#### Goals Scored in UEFA Champions League Knockout stages:"
   ]
  },
  {
   "cell_type": "code",
   "execution_count": 13,
   "metadata": {},
   "outputs": [
    {
     "data": {
      "text/html": [
       "<div>\n",
       "<style scoped>\n",
       "    .dataframe tbody tr th:only-of-type {\n",
       "        vertical-align: middle;\n",
       "    }\n",
       "\n",
       "    .dataframe tbody tr th {\n",
       "        vertical-align: top;\n",
       "    }\n",
       "\n",
       "    .dataframe thead th {\n",
       "        text-align: right;\n",
       "    }\n",
       "</style>\n",
       "<table border=\"1\" class=\"dataframe\">\n",
       "  <thead>\n",
       "    <tr style=\"text-align: right;\">\n",
       "      <th></th>\n",
       "      <th></th>\n",
       "      <th>date</th>\n",
       "    </tr>\n",
       "    <tr>\n",
       "      <th>player</th>\n",
       "      <th>comp</th>\n",
       "      <th></th>\n",
       "    </tr>\n",
       "  </thead>\n",
       "  <tbody>\n",
       "    <tr>\n",
       "      <th>Messi</th>\n",
       "      <th>Champions League</th>\n",
       "      <td>71</td>\n",
       "    </tr>\n",
       "    <tr>\n",
       "      <th>Ronaldo</th>\n",
       "      <th>Champions League</th>\n",
       "      <td>67</td>\n",
       "    </tr>\n",
       "  </tbody>\n",
       "</table>\n",
       "</div>"
      ],
      "text/plain": [
       "                          date\n",
       "player  comp                  \n",
       "Messi   Champions League    71\n",
       "Ronaldo Champions League    67"
      ]
     },
     "execution_count": 13,
     "metadata": {},
     "output_type": "execute_result"
    }
   ],
   "source": [
    "df.loc[(df['comp']=='Champions League') & (df['round'] == 'Group Stage')].groupby(['player','comp'])[['date']].count()"
   ]
  },
  {
   "cell_type": "markdown",
   "metadata": {},
   "source": [
    "#### Goals Scored in \"UEFA Champions League\" Group stages:"
   ]
  },
  {
   "cell_type": "code",
   "execution_count": 14,
   "metadata": {},
   "outputs": [
    {
     "data": {
      "text/html": [
       "<div>\n",
       "<style scoped>\n",
       "    .dataframe tbody tr th:only-of-type {\n",
       "        vertical-align: middle;\n",
       "    }\n",
       "\n",
       "    .dataframe tbody tr th {\n",
       "        vertical-align: top;\n",
       "    }\n",
       "\n",
       "    .dataframe thead th {\n",
       "        text-align: right;\n",
       "    }\n",
       "</style>\n",
       "<table border=\"1\" class=\"dataframe\">\n",
       "  <thead>\n",
       "    <tr style=\"text-align: right;\">\n",
       "      <th></th>\n",
       "      <th></th>\n",
       "      <th>date</th>\n",
       "    </tr>\n",
       "    <tr>\n",
       "      <th>player</th>\n",
       "      <th>comp</th>\n",
       "      <th></th>\n",
       "    </tr>\n",
       "  </thead>\n",
       "  <tbody>\n",
       "    <tr>\n",
       "      <th>Messi</th>\n",
       "      <th>Champions League</th>\n",
       "      <td>47</td>\n",
       "    </tr>\n",
       "    <tr>\n",
       "      <th>Ronaldo</th>\n",
       "      <th>Champions League</th>\n",
       "      <td>67</td>\n",
       "    </tr>\n",
       "  </tbody>\n",
       "</table>\n",
       "</div>"
      ],
      "text/plain": [
       "                          date\n",
       "player  comp                  \n",
       "Messi   Champions League    47\n",
       "Ronaldo Champions League    67"
      ]
     },
     "execution_count": 14,
     "metadata": {},
     "output_type": "execute_result"
    }
   ],
   "source": [
    "df.loc[(df['comp']=='Champions League') & (df['round'] != 'Group Stage')].groupby(['player','comp'])[['date']].count()"
   ]
  },
  {
   "cell_type": "markdown",
   "metadata": {},
   "source": [
    "### From this comparison we can understand:  \n",
    "Ronaldo scored more in the knockout stage and Messi scored more in the group stage.\n"
   ]
  },
  {
   "cell_type": "markdown",
   "metadata": {},
   "source": [
    "<img src=https://ss.thgim.com/photos/article30894670.ece/alternates/FREE_690/Getty-Images-Messi-Ronaldo width=\"700\">"
   ]
  },
  {
   "cell_type": "markdown",
   "metadata": {},
   "source": [
    "# Final Conclusions:"
   ]
  },
  {
   "cell_type": "markdown",
   "metadata": {},
   "source": [
    "1. Based on Graph 6, we can concluded that the pressure exerted on the players in the final stages of the league does not affect Ronaldo, and even makes him play better.   \n",
    "On the other hand, the pressure does affect Messi and he scored more goals in the groupe stage.  "
   ]
  },
  {
   "cell_type": "markdown",
   "metadata": {},
   "source": [
    "2. Based on graphs 1 and 5,  we can concluded that Ronaldo is a more stable player than Messi.  \n",
    "In Messi's career we see ups and downs in his abilities across the years, and in Ronaldo's career we see stability "
   ]
  },
  {
   "cell_type": "markdown",
   "metadata": {},
   "source": [
    "3. Based on graphs 2,4, we can concluded that Ronaldo is a more versatile player than Messi.  \n",
    "We can see that Ronaldo scores in higher percentages from more positions on the field and more different types."
   ]
  },
  {
   "cell_type": "markdown",
   "metadata": {},
   "source": [
    "4. Based on Graph 3, we can concluded that there is almost no difference between Ronaldo and Messi in their abilities to score on their own without the help of their teammates (solo)."
   ]
  }
 ],
 "metadata": {
  "kernelspec": {
   "display_name": "Python 3",
   "language": "python",
   "name": "python3"
  },
  "language_info": {
   "codemirror_mode": {
    "name": "ipython",
    "version": 3
   },
   "file_extension": ".py",
   "mimetype": "text/x-python",
   "name": "python",
   "nbconvert_exporter": "python",
   "pygments_lexer": "ipython3",
   "version": "3.8.5"
  }
 },
 "nbformat": 4,
 "nbformat_minor": 4
}
